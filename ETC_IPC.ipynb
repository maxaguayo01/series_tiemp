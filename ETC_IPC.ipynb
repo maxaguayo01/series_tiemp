{
 "cells": [
  {
   "cell_type": "code",
   "execution_count": 1,
   "id": "c73e326e-4f42-45ec-b3a3-a304f6cfd193",
   "metadata": {},
   "outputs": [],
   "source": [
    "import pandas as pd\n",
    "import yfinance as yf"
   ]
  },
  {
   "cell_type": "code",
   "execution_count": 2,
   "id": "5b023c6b-da05-4e12-9cdd-46a77950ddaa",
   "metadata": {},
   "outputs": [
    {
     "name": "stderr",
     "output_type": "stream",
     "text": [
      "[*********************100%***********************]  28 of 28 completed\n"
     ]
    },
    {
     "data": {
      "text/html": [
       "<div>\n",
       "<style scoped>\n",
       "    .dataframe tbody tr th:only-of-type {\n",
       "        vertical-align: middle;\n",
       "    }\n",
       "\n",
       "    .dataframe tbody tr th {\n",
       "        vertical-align: top;\n",
       "    }\n",
       "\n",
       "    .dataframe thead th {\n",
       "        text-align: right;\n",
       "    }\n",
       "</style>\n",
       "<table border=\"1\" class=\"dataframe\">\n",
       "  <thead>\n",
       "    <tr style=\"text-align: right;\">\n",
       "      <th>Ticker</th>\n",
       "      <th>AC.MX</th>\n",
       "      <th>ALSEA.MX</th>\n",
       "      <th>AMXB.MX</th>\n",
       "      <th>ASURB.MX</th>\n",
       "      <th>BBAJIOO.MX</th>\n",
       "      <th>BIMBOA.MX</th>\n",
       "      <th>BOLSAA.MX</th>\n",
       "      <th>CEMEXCPO.MX</th>\n",
       "      <th>CHDRAUIB.MX</th>\n",
       "      <th>CUERVO.MX</th>\n",
       "      <th>...</th>\n",
       "      <th>KOFUBL.MX</th>\n",
       "      <th>LABB.MX</th>\n",
       "      <th>MEGACPO.MX</th>\n",
       "      <th>OMAB.MX</th>\n",
       "      <th>ORBIA.MX</th>\n",
       "      <th>PINFRA.MX</th>\n",
       "      <th>Q.MX</th>\n",
       "      <th>RA.MX</th>\n",
       "      <th>TLEVISACPO.MX</th>\n",
       "      <th>VESTA.MX</th>\n",
       "    </tr>\n",
       "    <tr>\n",
       "      <th>Date</th>\n",
       "      <th></th>\n",
       "      <th></th>\n",
       "      <th></th>\n",
       "      <th></th>\n",
       "      <th></th>\n",
       "      <th></th>\n",
       "      <th></th>\n",
       "      <th></th>\n",
       "      <th></th>\n",
       "      <th></th>\n",
       "      <th></th>\n",
       "      <th></th>\n",
       "      <th></th>\n",
       "      <th></th>\n",
       "      <th></th>\n",
       "      <th></th>\n",
       "      <th></th>\n",
       "      <th></th>\n",
       "      <th></th>\n",
       "      <th></th>\n",
       "      <th></th>\n",
       "    </tr>\n",
       "  </thead>\n",
       "  <tbody>\n",
       "    <tr>\n",
       "      <th>2015-01-01 00:00:00+00:00</th>\n",
       "      <td>65.702606</td>\n",
       "      <td>37.795330</td>\n",
       "      <td>11.671398</td>\n",
       "      <td>152.225357</td>\n",
       "      <td>NaN</td>\n",
       "      <td>34.200211</td>\n",
       "      <td>15.430018</td>\n",
       "      <td>11.531771</td>\n",
       "      <td>37.507202</td>\n",
       "      <td>NaN</td>\n",
       "      <td>...</td>\n",
       "      <td>NaN</td>\n",
       "      <td>19.345699</td>\n",
       "      <td>38.958515</td>\n",
       "      <td>38.346153</td>\n",
       "      <td>33.284710</td>\n",
       "      <td>130.751816</td>\n",
       "      <td>NaN</td>\n",
       "      <td>54.440792</td>\n",
       "      <td>88.730598</td>\n",
       "      <td>23.547869</td>\n",
       "    </tr>\n",
       "    <tr>\n",
       "      <th>2015-02-01 00:00:00+00:00</th>\n",
       "      <td>70.285477</td>\n",
       "      <td>43.193310</td>\n",
       "      <td>11.671398</td>\n",
       "      <td>159.254822</td>\n",
       "      <td>NaN</td>\n",
       "      <td>37.858749</td>\n",
       "      <td>16.780146</td>\n",
       "      <td>13.125944</td>\n",
       "      <td>44.206848</td>\n",
       "      <td>NaN</td>\n",
       "      <td>...</td>\n",
       "      <td>NaN</td>\n",
       "      <td>13.299150</td>\n",
       "      <td>39.022583</td>\n",
       "      <td>39.573231</td>\n",
       "      <td>34.902489</td>\n",
       "      <td>138.726166</td>\n",
       "      <td>NaN</td>\n",
       "      <td>55.739498</td>\n",
       "      <td>92.414078</td>\n",
       "      <td>23.328480</td>\n",
       "    </tr>\n",
       "    <tr>\n",
       "      <th>2015-03-01 00:00:00+00:00</th>\n",
       "      <td>69.477180</td>\n",
       "      <td>42.006321</td>\n",
       "      <td>11.124300</td>\n",
       "      <td>159.635452</td>\n",
       "      <td>NaN</td>\n",
       "      <td>38.791325</td>\n",
       "      <td>16.133083</td>\n",
       "      <td>12.536793</td>\n",
       "      <td>41.669655</td>\n",
       "      <td>NaN</td>\n",
       "      <td>...</td>\n",
       "      <td>NaN</td>\n",
       "      <td>11.775289</td>\n",
       "      <td>42.517673</td>\n",
       "      <td>41.436150</td>\n",
       "      <td>32.001629</td>\n",
       "      <td>126.094261</td>\n",
       "      <td>NaN</td>\n",
       "      <td>54.553112</td>\n",
       "      <td>91.677391</td>\n",
       "      <td>23.035963</td>\n",
       "    </tr>\n",
       "    <tr>\n",
       "      <th>2015-04-01 00:00:00+00:00</th>\n",
       "      <td>69.892456</td>\n",
       "      <td>43.400566</td>\n",
       "      <td>11.737048</td>\n",
       "      <td>168.668945</td>\n",
       "      <td>NaN</td>\n",
       "      <td>36.944115</td>\n",
       "      <td>18.360477</td>\n",
       "      <td>13.335612</td>\n",
       "      <td>41.570332</td>\n",
       "      <td>NaN</td>\n",
       "      <td>...</td>\n",
       "      <td>NaN</td>\n",
       "      <td>14.749669</td>\n",
       "      <td>45.450409</td>\n",
       "      <td>42.735744</td>\n",
       "      <td>35.294956</td>\n",
       "      <td>136.695755</td>\n",
       "      <td>NaN</td>\n",
       "      <td>61.762737</td>\n",
       "      <td>101.554527</td>\n",
       "      <td>23.328480</td>\n",
       "    </tr>\n",
       "    <tr>\n",
       "      <th>2015-05-01 00:00:00+00:00</th>\n",
       "      <td>70.519684</td>\n",
       "      <td>43.626663</td>\n",
       "      <td>11.744344</td>\n",
       "      <td>176.417786</td>\n",
       "      <td>NaN</td>\n",
       "      <td>37.374538</td>\n",
       "      <td>16.991686</td>\n",
       "      <td>12.993213</td>\n",
       "      <td>42.587986</td>\n",
       "      <td>NaN</td>\n",
       "      <td>...</td>\n",
       "      <td>NaN</td>\n",
       "      <td>13.535471</td>\n",
       "      <td>46.048355</td>\n",
       "      <td>40.197926</td>\n",
       "      <td>37.479813</td>\n",
       "      <td>130.000061</td>\n",
       "      <td>NaN</td>\n",
       "      <td>59.649700</td>\n",
       "      <td>105.901932</td>\n",
       "      <td>22.910898</td>\n",
       "    </tr>\n",
       "  </tbody>\n",
       "</table>\n",
       "<p>5 rows × 28 columns</p>\n",
       "</div>"
      ],
      "text/plain": [
       "Ticker                         AC.MX   ALSEA.MX    AMXB.MX    ASURB.MX  \\\n",
       "Date                                                                     \n",
       "2015-01-01 00:00:00+00:00  65.702606  37.795330  11.671398  152.225357   \n",
       "2015-02-01 00:00:00+00:00  70.285477  43.193310  11.671398  159.254822   \n",
       "2015-03-01 00:00:00+00:00  69.477180  42.006321  11.124300  159.635452   \n",
       "2015-04-01 00:00:00+00:00  69.892456  43.400566  11.737048  168.668945   \n",
       "2015-05-01 00:00:00+00:00  70.519684  43.626663  11.744344  176.417786   \n",
       "\n",
       "Ticker                     BBAJIOO.MX  BIMBOA.MX  BOLSAA.MX  CEMEXCPO.MX  \\\n",
       "Date                                                                       \n",
       "2015-01-01 00:00:00+00:00         NaN  34.200211  15.430018    11.531771   \n",
       "2015-02-01 00:00:00+00:00         NaN  37.858749  16.780146    13.125944   \n",
       "2015-03-01 00:00:00+00:00         NaN  38.791325  16.133083    12.536793   \n",
       "2015-04-01 00:00:00+00:00         NaN  36.944115  18.360477    13.335612   \n",
       "2015-05-01 00:00:00+00:00         NaN  37.374538  16.991686    12.993213   \n",
       "\n",
       "Ticker                     CHDRAUIB.MX  CUERVO.MX  ...  KOFUBL.MX    LABB.MX  \\\n",
       "Date                                               ...                         \n",
       "2015-01-01 00:00:00+00:00    37.507202        NaN  ...        NaN  19.345699   \n",
       "2015-02-01 00:00:00+00:00    44.206848        NaN  ...        NaN  13.299150   \n",
       "2015-03-01 00:00:00+00:00    41.669655        NaN  ...        NaN  11.775289   \n",
       "2015-04-01 00:00:00+00:00    41.570332        NaN  ...        NaN  14.749669   \n",
       "2015-05-01 00:00:00+00:00    42.587986        NaN  ...        NaN  13.535471   \n",
       "\n",
       "Ticker                     MEGACPO.MX    OMAB.MX   ORBIA.MX   PINFRA.MX  Q.MX  \\\n",
       "Date                                                                            \n",
       "2015-01-01 00:00:00+00:00   38.958515  38.346153  33.284710  130.751816   NaN   \n",
       "2015-02-01 00:00:00+00:00   39.022583  39.573231  34.902489  138.726166   NaN   \n",
       "2015-03-01 00:00:00+00:00   42.517673  41.436150  32.001629  126.094261   NaN   \n",
       "2015-04-01 00:00:00+00:00   45.450409  42.735744  35.294956  136.695755   NaN   \n",
       "2015-05-01 00:00:00+00:00   46.048355  40.197926  37.479813  130.000061   NaN   \n",
       "\n",
       "Ticker                         RA.MX  TLEVISACPO.MX   VESTA.MX  \n",
       "Date                                                            \n",
       "2015-01-01 00:00:00+00:00  54.440792      88.730598  23.547869  \n",
       "2015-02-01 00:00:00+00:00  55.739498      92.414078  23.328480  \n",
       "2015-03-01 00:00:00+00:00  54.553112      91.677391  23.035963  \n",
       "2015-04-01 00:00:00+00:00  61.762737     101.554527  23.328480  \n",
       "2015-05-01 00:00:00+00:00  59.649700     105.901932  22.910898  \n",
       "\n",
       "[5 rows x 28 columns]"
      ]
     },
     "execution_count": 2,
     "metadata": {},
     "output_type": "execute_result"
    }
   ],
   "source": [
    "ticker = yf.Tickers([\"LABB.MX\", \"VESTA.MX\", \"ORBIA.MX\", \"GFNORTEO.MX\", \"BBAJIOO.MX\", \"MEGACPO.MX\",\n",
    "                     \"AC.MX\", \"GCC.MX\", \"GENTERA.MX\", \"CUERVO.MX\", \"AMXB.MX\", \"GCARSOA1.MX\",\n",
    "                     \"KIMBERA.MX\", \"GMEXICOB.MX\", \"CHDRAUIB.MX\", \"GRUMAB.MX\", \"KOFUBL.MX\",\n",
    "                     \"RA.MX\", \"BOLSAA.MX\", \"ALSEA.MX\", \"TLEVISACPO.MX\", \"Q.MX\", \"BIMBOA.MX\",\n",
    "                     \"PINFRA.MX\", \"GAPB.MX\", \"ASURB.MX\", \"OMAB.MX\", \"CEMEXCPO.MX\"])\n",
    "data = ticker.history(start= '2015-01-01', end= '2023-12-31', interval='1mo')['Close']\n",
    "\n",
    "data.head()"
   ]
  },
  {
   "cell_type": "code",
   "execution_count": 3,
   "id": "86f41b7b-9e4b-4222-b1cc-0632249678f1",
   "metadata": {},
   "outputs": [],
   "source": [
    "data.index = data.index.strftime('%Y-%m')\n",
    "data.index = pd.to_datetime(data.index)"
   ]
  },
  {
   "cell_type": "code",
   "execution_count": 4,
   "id": "c1d20a34-c73e-4c63-af01-e1b376c8f376",
   "metadata": {},
   "outputs": [
    {
     "data": {
      "text/html": [
       "<div>\n",
       "<style scoped>\n",
       "    .dataframe tbody tr th:only-of-type {\n",
       "        vertical-align: middle;\n",
       "    }\n",
       "\n",
       "    .dataframe tbody tr th {\n",
       "        vertical-align: top;\n",
       "    }\n",
       "\n",
       "    .dataframe thead th {\n",
       "        text-align: right;\n",
       "    }\n",
       "</style>\n",
       "<table border=\"1\" class=\"dataframe\">\n",
       "  <thead>\n",
       "    <tr style=\"text-align: right;\">\n",
       "      <th></th>\n",
       "      <th>Ticker</th>\n",
       "      <th>value</th>\n",
       "    </tr>\n",
       "    <tr>\n",
       "      <th>Date</th>\n",
       "      <th></th>\n",
       "      <th></th>\n",
       "    </tr>\n",
       "  </thead>\n",
       "  <tbody>\n",
       "    <tr>\n",
       "      <th>2015-01-01</th>\n",
       "      <td>AC.MX</td>\n",
       "      <td>65.702606</td>\n",
       "    </tr>\n",
       "    <tr>\n",
       "      <th>2015-02-01</th>\n",
       "      <td>AC.MX</td>\n",
       "      <td>70.285477</td>\n",
       "    </tr>\n",
       "    <tr>\n",
       "      <th>2015-03-01</th>\n",
       "      <td>AC.MX</td>\n",
       "      <td>69.477180</td>\n",
       "    </tr>\n",
       "    <tr>\n",
       "      <th>2015-04-01</th>\n",
       "      <td>AC.MX</td>\n",
       "      <td>69.892456</td>\n",
       "    </tr>\n",
       "    <tr>\n",
       "      <th>2015-05-01</th>\n",
       "      <td>AC.MX</td>\n",
       "      <td>70.519684</td>\n",
       "    </tr>\n",
       "  </tbody>\n",
       "</table>\n",
       "</div>"
      ],
      "text/plain": [
       "           Ticker      value\n",
       "Date                        \n",
       "2015-01-01  AC.MX  65.702606\n",
       "2015-02-01  AC.MX  70.285477\n",
       "2015-03-01  AC.MX  69.477180\n",
       "2015-04-01  AC.MX  69.892456\n",
       "2015-05-01  AC.MX  70.519684"
      ]
     },
     "execution_count": 4,
     "metadata": {},
     "output_type": "execute_result"
    }
   ],
   "source": [
    "data = data.melt(ignore_index=False)\n",
    "     \n",
    "\n",
    "data.head()"
   ]
  },
  {
   "cell_type": "code",
   "execution_count": 5,
   "id": "d47388ef-b558-43ac-95c5-93099edb8b0d",
   "metadata": {},
   "outputs": [
    {
     "data": {
      "text/html": [
       "<div>\n",
       "<style scoped>\n",
       "    .dataframe tbody tr th:only-of-type {\n",
       "        vertical-align: middle;\n",
       "    }\n",
       "\n",
       "    .dataframe tbody tr th {\n",
       "        vertical-align: top;\n",
       "    }\n",
       "\n",
       "    .dataframe thead th {\n",
       "        text-align: right;\n",
       "    }\n",
       "</style>\n",
       "<table border=\"1\" class=\"dataframe\">\n",
       "  <thead>\n",
       "    <tr style=\"text-align: right;\">\n",
       "      <th></th>\n",
       "      <th>ds</th>\n",
       "      <th>y</th>\n",
       "      <th>unique_id</th>\n",
       "    </tr>\n",
       "  </thead>\n",
       "  <tbody>\n",
       "    <tr>\n",
       "      <th>0</th>\n",
       "      <td>2015-01-01</td>\n",
       "      <td>65.702606</td>\n",
       "      <td>AC.MX</td>\n",
       "    </tr>\n",
       "    <tr>\n",
       "      <th>1</th>\n",
       "      <td>2015-02-01</td>\n",
       "      <td>70.285477</td>\n",
       "      <td>AC.MX</td>\n",
       "    </tr>\n",
       "    <tr>\n",
       "      <th>2</th>\n",
       "      <td>2015-03-01</td>\n",
       "      <td>69.477180</td>\n",
       "      <td>AC.MX</td>\n",
       "    </tr>\n",
       "    <tr>\n",
       "      <th>3</th>\n",
       "      <td>2015-04-01</td>\n",
       "      <td>69.892456</td>\n",
       "      <td>AC.MX</td>\n",
       "    </tr>\n",
       "    <tr>\n",
       "      <th>4</th>\n",
       "      <td>2015-05-01</td>\n",
       "      <td>70.519684</td>\n",
       "      <td>AC.MX</td>\n",
       "    </tr>\n",
       "  </tbody>\n",
       "</table>\n",
       "</div>"
      ],
      "text/plain": [
       "          ds          y unique_id\n",
       "0 2015-01-01  65.702606     AC.MX\n",
       "1 2015-02-01  70.285477     AC.MX\n",
       "2 2015-03-01  69.477180     AC.MX\n",
       "3 2015-04-01  69.892456     AC.MX\n",
       "4 2015-05-01  70.519684     AC.MX"
      ]
     },
     "execution_count": 5,
     "metadata": {},
     "output_type": "execute_result"
    }
   ],
   "source": [
    "df = pd.DataFrame({\"ds\": data.index,\n",
    "                   \"y\": data['value'],\n",
    "                   \"unique_id\": data['Ticker']})\n",
    "df.reset_index(drop=True, inplace=True)\n",
    "     \n",
    "\n",
    "df.head()"
   ]
  },
  {
   "cell_type": "code",
   "execution_count": 6,
   "id": "f4670206-e87d-4ba4-a4d6-c90194c00c75",
   "metadata": {},
   "outputs": [],
   "source": [
    "df.dropna(inplace=True)"
   ]
  },
  {
   "cell_type": "code",
   "execution_count": 7,
   "id": "69f8a27e-1b75-4cde-ac94-48d8185afcdf",
   "metadata": {},
   "outputs": [],
   "source": [
    "train = df[df.ds<'2023-01-01']\n",
    "test = df[df.ds>='2023-01-01']"
   ]
  },
  {
   "cell_type": "code",
   "execution_count": 8,
   "id": "a17b9fa4-9e1a-4b27-b40b-8039d9a7d6d6",
   "metadata": {},
   "outputs": [
    {
     "data": {
      "text/plain": [
       "((2573, 3), (336, 3))"
      ]
     },
     "execution_count": 8,
     "metadata": {},
     "output_type": "execute_result"
    }
   ],
   "source": [
    "train.shape, test.shape"
   ]
  },
  {
   "cell_type": "code",
   "execution_count": 9,
   "id": "6f20ea65-2eca-47f7-b990-b06383232ce4",
   "metadata": {},
   "outputs": [
    {
     "data": {
      "text/html": [
       "<div>\n",
       "<style scoped>\n",
       "    .dataframe tbody tr th:only-of-type {\n",
       "        vertical-align: middle;\n",
       "    }\n",
       "\n",
       "    .dataframe tbody tr th {\n",
       "        vertical-align: top;\n",
       "    }\n",
       "\n",
       "    .dataframe thead th {\n",
       "        text-align: right;\n",
       "    }\n",
       "</style>\n",
       "<table border=\"1\" class=\"dataframe\">\n",
       "  <thead>\n",
       "    <tr style=\"text-align: right;\">\n",
       "      <th></th>\n",
       "      <th>ds</th>\n",
       "      <th>y</th>\n",
       "      <th>unique_id</th>\n",
       "    </tr>\n",
       "  </thead>\n",
       "  <tbody>\n",
       "    <tr>\n",
       "      <th>0</th>\n",
       "      <td>2015-01-01</td>\n",
       "      <td>65.702606</td>\n",
       "      <td>AC.MX</td>\n",
       "    </tr>\n",
       "    <tr>\n",
       "      <th>1</th>\n",
       "      <td>2015-02-01</td>\n",
       "      <td>70.285477</td>\n",
       "      <td>AC.MX</td>\n",
       "    </tr>\n",
       "    <tr>\n",
       "      <th>2</th>\n",
       "      <td>2015-03-01</td>\n",
       "      <td>69.477180</td>\n",
       "      <td>AC.MX</td>\n",
       "    </tr>\n",
       "    <tr>\n",
       "      <th>3</th>\n",
       "      <td>2015-04-01</td>\n",
       "      <td>69.892456</td>\n",
       "      <td>AC.MX</td>\n",
       "    </tr>\n",
       "    <tr>\n",
       "      <th>4</th>\n",
       "      <td>2015-05-01</td>\n",
       "      <td>70.519684</td>\n",
       "      <td>AC.MX</td>\n",
       "    </tr>\n",
       "  </tbody>\n",
       "</table>\n",
       "</div>"
      ],
      "text/plain": [
       "          ds          y unique_id\n",
       "0 2015-01-01  65.702606     AC.MX\n",
       "1 2015-02-01  70.285477     AC.MX\n",
       "2 2015-03-01  69.477180     AC.MX\n",
       "3 2015-04-01  69.892456     AC.MX\n",
       "4 2015-05-01  70.519684     AC.MX"
      ]
     },
     "execution_count": 9,
     "metadata": {},
     "output_type": "execute_result"
    }
   ],
   "source": [
    "df.head()"
   ]
  },
  {
   "cell_type": "code",
   "execution_count": 10,
   "id": "b12135cd-702d-4a5c-b2d4-be6a7234a9d1",
   "metadata": {},
   "outputs": [],
   "source": [
    "from statsforecast.models import AutoETS\n",
    "from statsforecast import StatsForecast"
   ]
  },
  {
   "cell_type": "code",
   "execution_count": 11,
   "id": "aa67de95-f9fa-4428-876b-2b7da479ee0c",
   "metadata": {},
   "outputs": [],
   "source": [
    "season_length = 12 # Monthly data\n",
    "horizon = len(test['ds'].unique()) # number of predictions\n",
    "\n",
    "models = [AutoETS(season_length=season_length, model='ZZZ')]"
   ]
  },
  {
   "cell_type": "code",
   "execution_count": 12,
   "id": "7074c5f4-2612-4783-bfd9-7f33b18aaede",
   "metadata": {},
   "outputs": [
    {
     "name": "stderr",
     "output_type": "stream",
     "text": [
      "C:\\Users\\maxag\\anaconda3\\Lib\\site-packages\\statsforecast\\core.py:474: FutureWarning: The `df` argument of the StatsForecast constructor as well as reusing stored dfs from other methods is deprecated and will raise an error in a future version. Please provide the `df` argument to the corresponding method instead, e.g. fit/forecast.\n",
      "  warnings.warn(\n"
     ]
    }
   ],
   "source": [
    "sf = StatsForecast(df=train,\n",
    "                   models=models,\n",
    "                   freq='MS',\n",
    "                   n_jobs=-1)"
   ]
  },
  {
   "cell_type": "code",
   "execution_count": 13,
   "id": "81a5bedd-7aba-4a95-99cf-2be14674b322",
   "metadata": {},
   "outputs": [
    {
     "name": "stderr",
     "output_type": "stream",
     "text": [
      "C:\\Users\\maxag\\anaconda3\\Lib\\site-packages\\statsforecast\\core.py:474: FutureWarning: The `df` argument of the StatsForecast constructor as well as reusing stored dfs from other methods is deprecated and will raise an error in a future version. Please provide the `df` argument to the corresponding method instead, e.g. fit/forecast.\n",
      "  warnings.warn(\n"
     ]
    },
    {
     "data": {
      "text/plain": [
       "StatsForecast(models=[AutoETS])"
      ]
     },
     "execution_count": 13,
     "metadata": {},
     "output_type": "execute_result"
    }
   ],
   "source": [
    "sf.fit()"
   ]
  },
  {
   "cell_type": "code",
   "execution_count": 14,
   "id": "da921a0b-7985-467c-bdcd-b4455ee2cc38",
   "metadata": {},
   "outputs": [
    {
     "data": {
      "text/plain": [
       "dict_keys(['loglik', 'aic', 'bic', 'aicc', 'mse', 'amse', 'fit', 'residuals', 'components', 'm', 'nstate', 'fitted', 'states', 'par', 'sigma2', 'n_params', 'method', 'actual_residuals'])"
      ]
     },
     "execution_count": 14,
     "metadata": {},
     "output_type": "execute_result"
    }
   ],
   "source": [
    "sf.fitted_[0,0].model_.keys()"
   ]
  },
  {
   "cell_type": "code",
   "execution_count": 15,
   "id": "2bfa4872-157e-4cd5-9a6d-f1b4d4c53d4d",
   "metadata": {},
   "outputs": [
    {
     "data": {
      "text/plain": [
       "'ETS(M,N,N)'"
      ]
     },
     "execution_count": 15,
     "metadata": {},
     "output_type": "execute_result"
    }
   ],
   "source": [
    "sf.fitted_[0,0].model_['method']"
   ]
  },
  {
   "cell_type": "code",
   "execution_count": 16,
   "id": "b84276fe-2d31-4f11-82fe-03397072d926",
   "metadata": {},
   "outputs": [
    {
     "data": {
      "text/plain": [
       "46.88421846824995"
      ]
     },
     "execution_count": 16,
     "metadata": {},
     "output_type": "execute_result"
    }
   ],
   "source": [
    "sf.fitted_[0,0].model_['amse']"
   ]
  },
  {
   "cell_type": "code",
   "execution_count": 17,
   "id": "7b40cb3c-35e5-4f61-bb8e-ffd9837b2145",
   "metadata": {},
   "outputs": [
    {
     "data": {
      "text/plain": [
       "{'fitted': array([ 65.54664579,  65.70259061,  70.2850184 ,  69.47726126,\n",
       "         69.89241454,  70.51962111,  67.43881519,  73.2302405 ,\n",
       "         72.1585697 ,  71.87905627,  79.86059093,  78.80425146,\n",
       "         79.05331219,  81.86994231,  83.51635298,  90.19173047,\n",
       "         89.68648241,  94.11215199, 100.54109746,  92.53296642,\n",
       "         89.90092088,  88.51217807,  90.23805524,  83.2880791 ,\n",
       "         82.91150617,  86.30981028,  86.31782452,  99.81157011,\n",
       "        106.54056391, 102.24536365, 106.15846027, 102.7266692 ,\n",
       "        101.80796847,  96.88922483,  94.96639408,  99.32452294,\n",
       "        105.80014125, 105.11593604, 101.83934747,  97.84649155,\n",
       "        100.60894614,  93.15340218,  96.84753094,  98.00432462,\n",
       "         93.12530485,  95.75448254,  80.91932271,  83.29402825,\n",
       "         86.95362113,  88.1024852 ,  86.09074685,  85.65490504,\n",
       "         85.24299163,  84.76626777,  84.0379833 ,  82.48436253,\n",
       "         84.97636668,  86.31978905,  86.96723566,  83.76309968,\n",
       "         83.05073042,  86.6837187 ,  87.38803686,  77.37089775,\n",
       "         75.12049484,  82.07964917,  83.60711653,  91.08347318,\n",
       "         82.844635  ,  79.47495401,  77.88962388,  83.17713691,\n",
       "         80.69827648,  79.30884715,  80.75722514,  85.93785164,\n",
       "         92.42250821,  98.8970423 , 101.15468907, 105.38895794,\n",
       "        113.18388229, 110.13159188, 111.1701003 , 115.81032695,\n",
       "        115.58940808, 108.96817623, 120.67493852, 120.79218646,\n",
       "        115.64844839, 122.57402966, 121.39298616, 129.37191321,\n",
       "        125.65342517, 132.85345168, 148.29014319, 147.13742913])}"
      ]
     },
     "execution_count": 17,
     "metadata": {},
     "output_type": "execute_result"
    }
   ],
   "source": [
    "sf.fitted_[0,0].predict_in_sample()"
   ]
  },
  {
   "cell_type": "code",
   "execution_count": 18,
   "id": "04716718-fd0a-435a-997d-bd7fdcd020d9",
   "metadata": {},
   "outputs": [
    {
     "name": "stderr",
     "output_type": "stream",
     "text": [
      "C:\\Users\\maxag\\anaconda3\\Lib\\site-packages\\statsforecast\\core.py:492: FutureWarning: In a future version the predictions will have the id as a column. You can set the `NIXTLA_ID_AS_COL` environment variable to adopt the new behavior and to suppress this warning.\n",
      "  warnings.warn(\n"
     ]
    }
   ],
   "source": [
    "test_hat = sf.forecast(fitted = True, h = horizon)"
   ]
  },
  {
   "cell_type": "code",
   "execution_count": 19,
   "id": "029913ec-e258-4736-b570-7eca327447c5",
   "metadata": {},
   "outputs": [
    {
     "name": "stderr",
     "output_type": "stream",
     "text": [
      "C:\\Users\\maxag\\anaconda3\\Lib\\site-packages\\statsforecast\\core.py:492: FutureWarning: In a future version the predictions will have the id as a column. You can set the `NIXTLA_ID_AS_COL` environment variable to adopt the new behavior and to suppress this warning.\n",
      "  warnings.warn(\n"
     ]
    }
   ],
   "source": [
    "train_hat = sf.forecast_fitted_values()"
   ]
  },
  {
   "cell_type": "code",
   "execution_count": 20,
   "id": "98a02012-7144-47ea-a34f-5811474dd640",
   "metadata": {},
   "outputs": [
    {
     "name": "stderr",
     "output_type": "stream",
     "text": [
      "C:\\Users\\maxag\\anaconda3\\Lib\\site-packages\\statsforecast\\core.py:492: FutureWarning: In a future version the predictions will have the id as a column. You can set the `NIXTLA_ID_AS_COL` environment variable to adopt the new behavior and to suppress this warning.\n",
      "  warnings.warn(\n"
     ]
    }
   ],
   "source": [
    "fitted = sf.fit_predict(df=train, h = horizon)"
   ]
  },
  {
   "cell_type": "code",
   "execution_count": 21,
   "id": "0966dd21-aba7-4342-9c26-3e18c7bcb693",
   "metadata": {},
   "outputs": [
    {
     "data": {
      "text/html": [
       "<div>\n",
       "<style scoped>\n",
       "    .dataframe tbody tr th:only-of-type {\n",
       "        vertical-align: middle;\n",
       "    }\n",
       "\n",
       "    .dataframe tbody tr th {\n",
       "        vertical-align: top;\n",
       "    }\n",
       "\n",
       "    .dataframe thead th {\n",
       "        text-align: right;\n",
       "    }\n",
       "</style>\n",
       "<table border=\"1\" class=\"dataframe\">\n",
       "  <thead>\n",
       "    <tr style=\"text-align: right;\">\n",
       "      <th></th>\n",
       "      <th>ds</th>\n",
       "      <th>AutoETS</th>\n",
       "    </tr>\n",
       "    <tr>\n",
       "      <th>unique_id</th>\n",
       "      <th></th>\n",
       "      <th></th>\n",
       "    </tr>\n",
       "  </thead>\n",
       "  <tbody>\n",
       "    <tr>\n",
       "      <th>AC.MX</th>\n",
       "      <td>2023-01-01</td>\n",
       "      <td>147.468262</td>\n",
       "    </tr>\n",
       "    <tr>\n",
       "      <th>AC.MX</th>\n",
       "      <td>2023-02-01</td>\n",
       "      <td>147.468262</td>\n",
       "    </tr>\n",
       "    <tr>\n",
       "      <th>AC.MX</th>\n",
       "      <td>2023-03-01</td>\n",
       "      <td>147.468262</td>\n",
       "    </tr>\n",
       "    <tr>\n",
       "      <th>AC.MX</th>\n",
       "      <td>2023-04-01</td>\n",
       "      <td>147.468262</td>\n",
       "    </tr>\n",
       "    <tr>\n",
       "      <th>AC.MX</th>\n",
       "      <td>2023-05-01</td>\n",
       "      <td>147.468262</td>\n",
       "    </tr>\n",
       "  </tbody>\n",
       "</table>\n",
       "</div>"
      ],
      "text/plain": [
       "                  ds     AutoETS\n",
       "unique_id                       \n",
       "AC.MX     2023-01-01  147.468262\n",
       "AC.MX     2023-02-01  147.468262\n",
       "AC.MX     2023-03-01  147.468262\n",
       "AC.MX     2023-04-01  147.468262\n",
       "AC.MX     2023-05-01  147.468262"
      ]
     },
     "execution_count": 21,
     "metadata": {},
     "output_type": "execute_result"
    }
   ],
   "source": [
    "fitted.head()"
   ]
  },
  {
   "cell_type": "code",
   "execution_count": 22,
   "id": "ec65fd23-363e-4d4f-85cb-d094ca308cf3",
   "metadata": {},
   "outputs": [
    {
     "data": {
      "text/html": [
       "<div>\n",
       "<style scoped>\n",
       "    .dataframe tbody tr th:only-of-type {\n",
       "        vertical-align: middle;\n",
       "    }\n",
       "\n",
       "    .dataframe tbody tr th {\n",
       "        vertical-align: top;\n",
       "    }\n",
       "\n",
       "    .dataframe thead th {\n",
       "        text-align: right;\n",
       "    }\n",
       "</style>\n",
       "<table border=\"1\" class=\"dataframe\">\n",
       "  <thead>\n",
       "    <tr style=\"text-align: right;\">\n",
       "      <th></th>\n",
       "      <th>ds</th>\n",
       "      <th>AutoETS</th>\n",
       "    </tr>\n",
       "    <tr>\n",
       "      <th>unique_id</th>\n",
       "      <th></th>\n",
       "      <th></th>\n",
       "    </tr>\n",
       "  </thead>\n",
       "  <tbody>\n",
       "    <tr>\n",
       "      <th>AC.MX</th>\n",
       "      <td>2023-01-01</td>\n",
       "      <td>147.468262</td>\n",
       "    </tr>\n",
       "    <tr>\n",
       "      <th>AC.MX</th>\n",
       "      <td>2023-02-01</td>\n",
       "      <td>147.468262</td>\n",
       "    </tr>\n",
       "    <tr>\n",
       "      <th>AC.MX</th>\n",
       "      <td>2023-03-01</td>\n",
       "      <td>147.468262</td>\n",
       "    </tr>\n",
       "    <tr>\n",
       "      <th>AC.MX</th>\n",
       "      <td>2023-04-01</td>\n",
       "      <td>147.468262</td>\n",
       "    </tr>\n",
       "    <tr>\n",
       "      <th>AC.MX</th>\n",
       "      <td>2023-05-01</td>\n",
       "      <td>147.468262</td>\n",
       "    </tr>\n",
       "  </tbody>\n",
       "</table>\n",
       "</div>"
      ],
      "text/plain": [
       "                  ds     AutoETS\n",
       "unique_id                       \n",
       "AC.MX     2023-01-01  147.468262\n",
       "AC.MX     2023-02-01  147.468262\n",
       "AC.MX     2023-03-01  147.468262\n",
       "AC.MX     2023-04-01  147.468262\n",
       "AC.MX     2023-05-01  147.468262"
      ]
     },
     "execution_count": 22,
     "metadata": {},
     "output_type": "execute_result"
    }
   ],
   "source": [
    "test_hat.head()"
   ]
  },
  {
   "cell_type": "code",
   "execution_count": 23,
   "id": "81e41c58-a486-45b1-a3c5-edcdf6de4834",
   "metadata": {},
   "outputs": [],
   "source": [
    "\n",
    "from sklearn import metrics\n",
    "import numpy as np"
   ]
  },
  {
   "cell_type": "code",
   "execution_count": 24,
   "id": "956cc6cb-3f29-4134-845e-1b47bc5c33a8",
   "metadata": {},
   "outputs": [],
   "source": [
    "def model_evaluation(y_true, y_pred, stocks):\n",
    "    errors_df = pd.DataFrame(columns=['MAPE'], index=stocks)\n",
    "    def mean_absolute_percentage_error(y_true, y_pred):\n",
    "        y_true, y_pred = np.array(y_true), np.array(y_pred)\n",
    "        return np.mean(np.abs((y_true - y_pred) / y_true)) * 100\n",
    "\n",
    "    for stock in stocks:\n",
    "      y_true_stock = y_true[y_true['unique_id'] == stock]['y']\n",
    "      y_pred_stock = y_pred[test_hat.index == stock]['AutoETS']\n",
    "      print(f\"MAPE score for {stock}: {mean_absolute_percentage_error(y_true_stock, y_pred_stock)}\")\n",
    "      errors_df.loc[stock, 'MAPE'] = mean_absolute_percentage_error(y_true_stock, y_pred_stock)\n",
    "\n",
    "    return errors_df"
   ]
  },
  {
   "cell_type": "code",
   "execution_count": 25,
   "id": "3334719d-3fdf-4b6f-910e-acb496cb7a0b",
   "metadata": {},
   "outputs": [
    {
     "name": "stdout",
     "output_type": "stream",
     "text": [
      "MAPE score for AC.MX: 7.900408107231528\n",
      "MAPE score for ALSEA.MX: 30.635296579629863\n",
      "MAPE score for AMXB.MX: 9.164919203534795\n",
      "MAPE score for ASURB.MX: 9.504775095000241\n",
      "MAPE score for BBAJIOO.MX: 7.885178538475435\n",
      "MAPE score for BIMBOA.MX: 8.531736882186959\n",
      "MAPE score for BOLSAA.MX: 10.141930234776405\n",
      "MAPE score for CEMEXCPO.MX: 29.306708765477303\n",
      "MAPE score for CHDRAUIB.MX: 16.559521482304955\n",
      "MAPE score for CUERVO.MX: 11.604977064403467\n",
      "MAPE score for GAPB.MX: 11.264741709899083\n",
      "MAPE score for GCARSOA1.MX: 29.410270875227624\n",
      "MAPE score for GCC.MX: 11.273305849542165\n",
      "MAPE score for GENTERA.MX: 7.5973376085197\n",
      "MAPE score for GFNORTEO.MX: 14.144419160852914\n",
      "MAPE score for GMEXICOB.MX: 18.758702970026054\n",
      "MAPE score for GRUMAB.MX: 11.267634263528361\n",
      "MAPE score for KIMBERA.MX: 13.361193088477025\n",
      "MAPE score for KOFUBL.MX: 9.727786710035797\n",
      "MAPE score for LABB.MX: 16.026170861346614\n",
      "MAPE score for MEGACPO.MX: 18.6696739359647\n",
      "MAPE score for OMAB.MX: 16.083249217126777\n",
      "MAPE score for ORBIA.MX: 9.89212251411949\n",
      "MAPE score for PINFRA.MX: 13.003195377520903\n",
      "MAPE score for Q.MX: 32.85835602817487\n",
      "MAPE score for RA.MX: 7.84507609102841\n",
      "MAPE score for TLEVISACPO.MX: 28.473288014877447\n",
      "MAPE score for VESTA.MX: 22.49181543619818\n"
     ]
    }
   ],
   "source": [
    "errors_df = model_evaluation(test, test_hat, test['unique_id'].unique())"
   ]
  },
  {
   "cell_type": "code",
   "execution_count": 26,
   "id": "4cdda5f0-24d0-4c81-83f9-4f29b027c973",
   "metadata": {},
   "outputs": [
    {
     "name": "stderr",
     "output_type": "stream",
     "text": [
      "C:\\Users\\maxag\\anaconda3\\Lib\\site-packages\\seaborn\\_oldcore.py:1119: FutureWarning: use_inf_as_na option is deprecated and will be removed in a future version. Convert inf values to NaN before operating instead.\n",
      "  with pd.option_context('mode.use_inf_as_na', True):\n",
      "C:\\Users\\maxag\\anaconda3\\Lib\\site-packages\\seaborn\\_oldcore.py:1119: FutureWarning: use_inf_as_na option is deprecated and will be removed in a future version. Convert inf values to NaN before operating instead.\n",
      "  with pd.option_context('mode.use_inf_as_na', True):\n",
      "C:\\Users\\maxag\\anaconda3\\Lib\\site-packages\\seaborn\\_oldcore.py:1119: FutureWarning: use_inf_as_na option is deprecated and will be removed in a future version. Convert inf values to NaN before operating instead.\n",
      "  with pd.option_context('mode.use_inf_as_na', True):\n",
      "C:\\Users\\maxag\\anaconda3\\Lib\\site-packages\\seaborn\\_oldcore.py:1119: FutureWarning: use_inf_as_na option is deprecated and will be removed in a future version. Convert inf values to NaN before operating instead.\n",
      "  with pd.option_context('mode.use_inf_as_na', True):\n",
      "C:\\Users\\maxag\\anaconda3\\Lib\\site-packages\\seaborn\\_oldcore.py:1119: FutureWarning: use_inf_as_na option is deprecated and will be removed in a future version. Convert inf values to NaN before operating instead.\n",
      "  with pd.option_context('mode.use_inf_as_na', True):\n",
      "C:\\Users\\maxag\\anaconda3\\Lib\\site-packages\\seaborn\\_oldcore.py:1119: FutureWarning: use_inf_as_na option is deprecated and will be removed in a future version. Convert inf values to NaN before operating instead.\n",
      "  with pd.option_context('mode.use_inf_as_na', True):\n"
     ]
    },
    {
     "data": {
      "image/png": "[encoded data removed]",
      "text/plain": [
       "<Figure size 640x480 with 1 Axes>"
      ]
     },
     "metadata": {},
     "output_type": "display_data"
    }
   ],
   "source": [
    "import seaborn as sns\n",
    "import matplotlib.pyplot as plt\n",
    "     \n",
    "\n",
    "sns.lineplot(train[train['unique_id'] == 'GENTERA.MX'], x=\"ds\", y=\"y\", label=\"Train\")\n",
    "sns.lineplot(test[test['unique_id'] == 'GENTERA.MX'], x=\"ds\", y=\"y\", label=\"Test\")\n",
    "sns.lineplot(test_hat[test_hat.index == 'GENTERA.MX'], x=\"ds\", y=\"AutoETS\", label=\"Forecast\",)\n",
    "plt.show()"
   ]
  },
  {
   "cell_type": "code",
   "execution_count": 27,
   "id": "a8225fac-1be1-4249-9dd1-a93f74ace9cc",
   "metadata": {},
   "outputs": [
    {
     "data": {
      "text/plain": [
       "'ETS(M,N,N)'"
      ]
     },
     "execution_count": 27,
     "metadata": {},
     "output_type": "execute_result"
    }
   ],
   "source": [
    "sf.fitted_[14,0].model_['method']"
   ]
  },
  {
   "cell_type": "code",
   "execution_count": 28,
   "id": "e773c6de-dcdd-4bda-836a-f4fb0b013297",
   "metadata": {},
   "outputs": [
    {
     "name": "stderr",
     "output_type": "stream",
     "text": [
      "C:\\Users\\maxag\\anaconda3\\Lib\\site-packages\\seaborn\\_oldcore.py:1119: FutureWarning: use_inf_as_na option is deprecated and will be removed in a future version. Convert inf values to NaN before operating instead.\n",
      "  with pd.option_context('mode.use_inf_as_na', True):\n",
      "C:\\Users\\maxag\\anaconda3\\Lib\\site-packages\\seaborn\\_oldcore.py:1119: FutureWarning: use_inf_as_na option is deprecated and will be removed in a future version. Convert inf values to NaN before operating instead.\n",
      "  with pd.option_context('mode.use_inf_as_na', True):\n",
      "C:\\Users\\maxag\\anaconda3\\Lib\\site-packages\\seaborn\\_oldcore.py:1119: FutureWarning: use_inf_as_na option is deprecated and will be removed in a future version. Convert inf values to NaN before operating instead.\n",
      "  with pd.option_context('mode.use_inf_as_na', True):\n",
      "C:\\Users\\maxag\\anaconda3\\Lib\\site-packages\\seaborn\\_oldcore.py:1119: FutureWarning: use_inf_as_na option is deprecated and will be removed in a future version. Convert inf values to NaN before operating instead.\n",
      "  with pd.option_context('mode.use_inf_as_na', True):\n",
      "C:\\Users\\maxag\\anaconda3\\Lib\\site-packages\\seaborn\\_oldcore.py:1119: FutureWarning: use_inf_as_na option is deprecated and will be removed in a future version. Convert inf values to NaN before operating instead.\n",
      "  with pd.option_context('mode.use_inf_as_na', True):\n",
      "C:\\Users\\maxag\\anaconda3\\Lib\\site-packages\\seaborn\\_oldcore.py:1119: FutureWarning: use_inf_as_na option is deprecated and will be removed in a future version. Convert inf values to NaN before operating instead.\n",
      "  with pd.option_context('mode.use_inf_as_na', True):\n"
     ]
    },
    {
     "data": {
      "image/png": "[encoded data removed]",
      "text/plain": [
       "<Figure size 640x480 with 1 Axes>"
      ]
     },
     "metadata": {},
     "output_type": "display_data"
    }
   ],
   "source": [
    "sns.lineplot(train[train['unique_id'] == 'Q.MX'], x=\"ds\", y=\"y\", label=\"Train\")\n",
    "sns.lineplot(test[test['unique_id'] == 'Q.MX'], x=\"ds\", y=\"y\", label=\"Test\")\n",
    "sns.lineplot(test_hat[test_hat.index == 'Q.MX'], x=\"ds\", y=\"AutoETS\", label=\"Forecast\",)\n",
    "plt.show()\n",
    "     "
   ]
  },
  {
   "cell_type": "code",
   "execution_count": 29,
   "id": "b2f9f109-d0d2-4629-a28d-83f7b8e2264e",
   "metadata": {},
   "outputs": [
    {
     "data": {
      "text/plain": [
       "'ETS(M,A,N)'"
      ]
     },
     "execution_count": 29,
     "metadata": {},
     "output_type": "execute_result"
    }
   ],
   "source": [
    "\n",
    "sf.fitted_[24,0].model_['method']"
   ]
  },
  {
   "cell_type": "code",
   "execution_count": null,
   "id": "1e95b298-f787-4cd4-b4b7-2225b4dd1d26",
   "metadata": {},
   "outputs": [],
   "source": []
  }
 ],
 "metadata": {
  "kernelspec": {
   "display_name": "Python 3 (ipykernel)",
   "language": "python",
   "name": "python3"
  },
  "language_info": {
   "codemirror_mode": {
    "name": "ipython",
    "version": 3
   },
   "file_extension": ".py",
   "mimetype": "text/x-python",
   "name": "python",
   "nbconvert_exporter": "python",
   "pygments_lexer": "ipython3",
   "version": "3.11.7"
  }
 },
 "nbformat": 4,
 "nbformat_minor": 5
}
